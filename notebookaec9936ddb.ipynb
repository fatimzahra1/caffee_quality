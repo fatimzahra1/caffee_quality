{
 "cells": [
  {
   "cell_type": "code",
   "execution_count": 1,
   "id": "7547ad4f",
   "metadata": {
    "_cell_guid": "b1076dfc-b9ad-4769-8c92-a6c4dae69d19",
    "_uuid": "8f2839f25d086af736a60e9eeb907d3b93b6e0e5",
    "execution": {
     "iopub.execute_input": "2023-07-03T10:40:17.855829Z",
     "iopub.status.busy": "2023-07-03T10:40:17.855380Z",
     "iopub.status.idle": "2023-07-03T10:40:20.064701Z",
     "shell.execute_reply": "2023-07-03T10:40:20.063366Z"
    },
    "papermill": {
     "duration": 2.21926,
     "end_time": "2023-07-03T10:40:20.067269",
     "exception": false,
     "start_time": "2023-07-03T10:40:17.848009",
     "status": "completed"
    },
    "tags": []
   },
   "outputs": [
    {
     "name": "stdout",
     "output_type": "stream",
     "text": [
      "/kaggle/input/coffee-quality-data-cqi/df_arabica_clean.csv\n"
     ]
    }
   ],
   "source": [
    "# This Python 3 environment comes with many helpful analytics libraries installed\n",
    "# It is defined by the kaggle/python Docker image: https://github.com/kaggle/docker-python\n",
    "# For example, here's several helpful packages to load\n",
    "\n",
    "import numpy as np # linear algebra\n",
    "import pandas as pd # data processing, CSV file I/O (e.g. pd.read_csv)\n",
    "import matplotlib.pyplot as plt\n",
    "import seaborn as sns\n",
    "from sklearn.model_selection import train_test_split\n",
    "from sklearn.preprocessing import StandardScaler\n",
    "from sklearn.metrics import classification_report, confusion_matrix\n",
    "from sklearn.model_selection import cross_val_score\n",
    "from sklearn.linear_model import LogisticRegression\n",
    "from sklearn.tree import DecisionTreeClassifier\n",
    "from sklearn.ensemble import RandomForestClassifier\n",
    "\n",
    "\n",
    "\n",
    "# Input data files are available in the read-only \"../input/\" directory\n",
    "# For example, running this (by clicking run or pressing Shift+Enter) will list all files under the input directory\n",
    "\n",
    "import os\n",
    "for dirname, _, filenames in os.walk('/kaggle/input'):\n",
    "    for filename in filenames:\n",
    "        print(os.path.join(dirname, filename))\n",
    "\n",
    "# You can write up to 20GB to the current directory (/kaggle/working/) that gets preserved as output when you create a version using \"Save & Run All\" \n",
    "# You can also write temporary files to /kaggle/temp/, but they won't be saved outside of the current session"
   ]
  },
  {
   "cell_type": "code",
   "execution_count": 2,
   "id": "a903a1a8",
   "metadata": {
    "execution": {
     "iopub.execute_input": "2023-07-03T10:40:20.078170Z",
     "iopub.status.busy": "2023-07-03T10:40:20.077724Z",
     "iopub.status.idle": "2023-07-03T10:40:20.110951Z",
     "shell.execute_reply": "2023-07-03T10:40:20.109663Z"
    },
    "papermill": {
     "duration": 0.041578,
     "end_time": "2023-07-03T10:40:20.113578",
     "exception": false,
     "start_time": "2023-07-03T10:40:20.072000",
     "status": "completed"
    },
    "tags": []
   },
   "outputs": [
    {
     "data": {
      "text/plain": [
       "Index(['Unnamed: 0', 'ID', 'Country of Origin', 'Farm Name', 'Lot Number',\n",
       "       'Mill', 'ICO Number', 'Company', 'Altitude', 'Region', 'Producer',\n",
       "       'Number of Bags', 'Bag Weight', 'In-Country Partner', 'Harvest Year',\n",
       "       'Grading Date', 'Owner', 'Variety', 'Status', 'Processing Method',\n",
       "       'Aroma', 'Flavor', 'Aftertaste', 'Acidity', 'Body', 'Balance',\n",
       "       'Uniformity', 'Clean Cup', 'Sweetness', 'Overall', 'Defects',\n",
       "       'Total Cup Points', 'Moisture Percentage', 'Category One Defects',\n",
       "       'Quakers', 'Color', 'Category Two Defects', 'Expiration',\n",
       "       'Certification Body', 'Certification Address', 'Certification Contact'],\n",
       "      dtype='object')"
      ]
     },
     "execution_count": 2,
     "metadata": {},
     "output_type": "execute_result"
    }
   ],
   "source": [
    "df= pd.read_csv(\"../input/coffee-quality-data-cqi/df_arabica_clean.csv\")\n",
    "df.head(5)\n",
    "df.columns"
   ]
  },
  {
   "cell_type": "code",
   "execution_count": 3,
   "id": "7699d9d8",
   "metadata": {
    "execution": {
     "iopub.execute_input": "2023-07-03T10:40:20.124877Z",
     "iopub.status.busy": "2023-07-03T10:40:20.124501Z",
     "iopub.status.idle": "2023-07-03T10:40:20.131896Z",
     "shell.execute_reply": "2023-07-03T10:40:20.130618Z"
    },
    "papermill": {
     "duration": 0.016192,
     "end_time": "2023-07-03T10:40:20.134460",
     "exception": false,
     "start_time": "2023-07-03T10:40:20.118268",
     "status": "completed"
    },
    "tags": []
   },
   "outputs": [
    {
     "data": {
      "text/plain": [
       "Index(['Unnamed: 0', 'ID', 'Country of Origin', 'Farm Name', 'Lot Number',\n",
       "       'Mill', 'ICO Number', 'Company', 'Altitude', 'Region', 'Producer',\n",
       "       'Number of Bags', 'Bag Weight', 'In-Country Partner', 'Harvest Year',\n",
       "       'Grading Date', 'Owner', 'Variety', 'Status', 'Processing Method',\n",
       "       'Aroma', 'Flavor', 'Aftertaste', 'Acidity', 'Body', 'Balance',\n",
       "       'Uniformity', 'Clean Cup', 'Sweetness', 'Overall', 'Defects',\n",
       "       'Total Cup Points', 'Moisture Percentage', 'Category One Defects',\n",
       "       'Quakers', 'Color', 'Category Two Defects', 'Expiration',\n",
       "       'Certification Body', 'Certification Address', 'Certification Contact'],\n",
       "      dtype='object')"
      ]
     },
     "execution_count": 3,
     "metadata": {},
     "output_type": "execute_result"
    }
   ],
   "source": [
    "df.columns"
   ]
  },
  {
   "cell_type": "code",
   "execution_count": 4,
   "id": "e863691c",
   "metadata": {
    "execution": {
     "iopub.execute_input": "2023-07-03T10:40:20.145943Z",
     "iopub.status.busy": "2023-07-03T10:40:20.145564Z",
     "iopub.status.idle": "2023-07-03T10:40:20.178361Z",
     "shell.execute_reply": "2023-07-03T10:40:20.177033Z"
    },
    "papermill": {
     "duration": 0.042007,
     "end_time": "2023-07-03T10:40:20.181270",
     "exception": false,
     "start_time": "2023-07-03T10:40:20.139263",
     "status": "completed"
    },
    "tags": []
   },
   "outputs": [
    {
     "name": "stdout",
     "output_type": "stream",
     "text": [
      "<class 'pandas.core.frame.DataFrame'>\n",
      "RangeIndex: 207 entries, 0 to 206\n",
      "Data columns (total 41 columns):\n",
      " #   Column                 Non-Null Count  Dtype  \n",
      "---  ------                 --------------  -----  \n",
      " 0   Unnamed: 0             207 non-null    int64  \n",
      " 1   ID                     207 non-null    int64  \n",
      " 2   Country of Origin      207 non-null    object \n",
      " 3   Farm Name              205 non-null    object \n",
      " 4   Lot Number             206 non-null    object \n",
      " 5   Mill                   204 non-null    object \n",
      " 6   ICO Number             75 non-null     object \n",
      " 7   Company                207 non-null    object \n",
      " 8   Altitude               206 non-null    object \n",
      " 9   Region                 205 non-null    object \n",
      " 10  Producer               206 non-null    object \n",
      " 11  Number of Bags         207 non-null    int64  \n",
      " 12  Bag Weight             207 non-null    object \n",
      " 13  In-Country Partner     207 non-null    object \n",
      " 14  Harvest Year           207 non-null    object \n",
      " 15  Grading Date           207 non-null    object \n",
      " 16  Owner                  207 non-null    object \n",
      " 17  Variety                201 non-null    object \n",
      " 18  Status                 207 non-null    object \n",
      " 19  Processing Method      202 non-null    object \n",
      " 20  Aroma                  207 non-null    float64\n",
      " 21  Flavor                 207 non-null    float64\n",
      " 22  Aftertaste             207 non-null    float64\n",
      " 23  Acidity                207 non-null    float64\n",
      " 24  Body                   207 non-null    float64\n",
      " 25  Balance                207 non-null    float64\n",
      " 26  Uniformity             207 non-null    float64\n",
      " 27  Clean Cup              207 non-null    float64\n",
      " 28  Sweetness              207 non-null    float64\n",
      " 29  Overall                207 non-null    float64\n",
      " 30  Defects                207 non-null    float64\n",
      " 31  Total Cup Points       207 non-null    float64\n",
      " 32  Moisture Percentage    207 non-null    float64\n",
      " 33  Category One Defects   207 non-null    int64  \n",
      " 34  Quakers                207 non-null    int64  \n",
      " 35  Color                  207 non-null    object \n",
      " 36  Category Two Defects   207 non-null    int64  \n",
      " 37  Expiration             207 non-null    object \n",
      " 38  Certification Body     207 non-null    object \n",
      " 39  Certification Address  207 non-null    object \n",
      " 40  Certification Contact  207 non-null    object \n",
      "dtypes: float64(13), int64(6), object(22)\n",
      "memory usage: 66.4+ KB\n"
     ]
    }
   ],
   "source": [
    "df.info()"
   ]
  },
  {
   "cell_type": "code",
   "execution_count": 5,
   "id": "a58369ce",
   "metadata": {
    "execution": {
     "iopub.execute_input": "2023-07-03T10:40:20.193560Z",
     "iopub.status.busy": "2023-07-03T10:40:20.193117Z",
     "iopub.status.idle": "2023-07-03T10:40:20.204200Z",
     "shell.execute_reply": "2023-07-03T10:40:20.203043Z"
    },
    "papermill": {
     "duration": 0.020173,
     "end_time": "2023-07-03T10:40:20.206553",
     "exception": false,
     "start_time": "2023-07-03T10:40:20.186380",
     "status": "completed"
    },
    "tags": []
   },
   "outputs": [
    {
     "data": {
      "text/plain": [
       "Unnamed: 0                 0\n",
       "ID                         0\n",
       "Country of Origin          0\n",
       "Farm Name                  2\n",
       "Lot Number                 1\n",
       "Mill                       3\n",
       "ICO Number               132\n",
       "Company                    0\n",
       "Altitude                   1\n",
       "Region                     2\n",
       "Producer                   1\n",
       "Number of Bags             0\n",
       "Bag Weight                 0\n",
       "In-Country Partner         0\n",
       "Harvest Year               0\n",
       "Grading Date               0\n",
       "Owner                      0\n",
       "Variety                    6\n",
       "Status                     0\n",
       "Processing Method          5\n",
       "Aroma                      0\n",
       "Flavor                     0\n",
       "Aftertaste                 0\n",
       "Acidity                    0\n",
       "Body                       0\n",
       "Balance                    0\n",
       "Uniformity                 0\n",
       "Clean Cup                  0\n",
       "Sweetness                  0\n",
       "Overall                    0\n",
       "Defects                    0\n",
       "Total Cup Points           0\n",
       "Moisture Percentage        0\n",
       "Category One Defects       0\n",
       "Quakers                    0\n",
       "Color                      0\n",
       "Category Two Defects       0\n",
       "Expiration                 0\n",
       "Certification Body         0\n",
       "Certification Address      0\n",
       "Certification Contact      0\n",
       "dtype: int64"
      ]
     },
     "execution_count": 5,
     "metadata": {},
     "output_type": "execute_result"
    }
   ],
   "source": [
    "df.isnull().sum()"
   ]
  },
  {
   "cell_type": "markdown",
   "id": "89aec29f",
   "metadata": {
    "papermill": {
     "duration": 0.004845,
     "end_time": "2023-07-03T10:40:20.216658",
     "exception": false,
     "start_time": "2023-07-03T10:40:20.211813",
     "status": "completed"
    },
    "tags": []
   },
   "source": [
    "# Data cleaning and preprocessing."
   ]
  },
  {
   "cell_type": "code",
   "execution_count": 6,
   "id": "0bf10b38",
   "metadata": {
    "execution": {
     "iopub.execute_input": "2023-07-03T10:40:20.229185Z",
     "iopub.status.busy": "2023-07-03T10:40:20.228723Z",
     "iopub.status.idle": "2023-07-03T10:40:20.245761Z",
     "shell.execute_reply": "2023-07-03T10:40:20.244683Z"
    },
    "papermill": {
     "duration": 0.026598,
     "end_time": "2023-07-03T10:40:20.248689",
     "exception": false,
     "start_time": "2023-07-03T10:40:20.222091",
     "status": "completed"
    },
    "tags": []
   },
   "outputs": [
    {
     "data": {
      "text/plain": [
       "9           greenish\n",
       "10          greenish\n",
       "13     yellow- green\n",
       "17      yellow-green\n",
       "18          brownish\n",
       "           ...      \n",
       "197            green\n",
       "201         greenish\n",
       "203            green\n",
       "204            green\n",
       "206            green\n",
       "Name: Color, Length: 69, dtype: object"
      ]
     },
     "execution_count": 6,
     "metadata": {},
     "output_type": "execute_result"
    }
   ],
   "source": [
    "# Drop unnecessary columns\n",
    "df.drop(\"Unnamed: 0\", axis=1, inplace=True)\n",
    "\n",
    "# Handle missing values\n",
    "df.dropna(inplace=True)\n",
    "df.head(2)\n",
    "df[\"Color\"]"
   ]
  },
  {
   "cell_type": "code",
   "execution_count": 7,
   "id": "8911371f",
   "metadata": {
    "execution": {
     "iopub.execute_input": "2023-07-03T10:40:20.263767Z",
     "iopub.status.busy": "2023-07-03T10:40:20.263056Z",
     "iopub.status.idle": "2023-07-03T10:40:20.278956Z",
     "shell.execute_reply": "2023-07-03T10:40:20.277701Z"
    },
    "papermill": {
     "duration": 0.027607,
     "end_time": "2023-07-03T10:40:20.281863",
     "exception": false,
     "start_time": "2023-07-03T10:40:20.254256",
     "status": "completed"
    },
    "tags": []
   },
   "outputs": [],
   "source": [
    "# Convert categorical variables to numeric\n",
    "category_cols = ['Owner', \"Country of Origin\",\"Producer\",\"Processing Method\"]\n",
    "df = pd.get_dummies(df, columns=category_cols, drop_first=True)"
   ]
  },
  {
   "cell_type": "code",
   "execution_count": 8,
   "id": "767d1ee3",
   "metadata": {
    "execution": {
     "iopub.execute_input": "2023-07-03T10:40:20.294390Z",
     "iopub.status.busy": "2023-07-03T10:40:20.293957Z",
     "iopub.status.idle": "2023-07-03T10:40:20.302983Z",
     "shell.execute_reply": "2023-07-03T10:40:20.301824Z"
    },
    "papermill": {
     "duration": 0.018313,
     "end_time": "2023-07-03T10:40:20.305689",
     "exception": false,
     "start_time": "2023-07-03T10:40:20.287376",
     "status": "completed"
    },
    "tags": []
   },
   "outputs": [
    {
     "data": {
      "text/plain": [
       "9     8.08\n",
       "10    8.00\n",
       "13    8.00\n",
       "Name: Aftertaste, dtype: float64"
      ]
     },
     "execution_count": 8,
     "metadata": {},
     "output_type": "execute_result"
    }
   ],
   "source": [
    "df.Aftertaste.head(3)"
   ]
  },
  {
   "cell_type": "code",
   "execution_count": 9,
   "id": "35d1ab05",
   "metadata": {
    "execution": {
     "iopub.execute_input": "2023-07-03T10:40:20.318943Z",
     "iopub.status.busy": "2023-07-03T10:40:20.318466Z",
     "iopub.status.idle": "2023-07-03T10:40:20.332516Z",
     "shell.execute_reply": "2023-07-03T10:40:20.331258Z"
    },
    "papermill": {
     "duration": 0.024089,
     "end_time": "2023-07-03T10:40:20.335408",
     "exception": false,
     "start_time": "2023-07-03T10:40:20.311319",
     "status": "completed"
    },
    "tags": []
   },
   "outputs": [],
   "source": [
    "# Normalise numeric variables\n",
    "numerical_cols=[\"Aroma\",\"Flavor\",\"Aftertaste\",\"Acidity\", \"Body\",\"Balance\",\"Uniformity\",\"Clean Cup\",\"Sweetness\",\"Total Cup Points\"]\n",
    "scaler=StandardScaler()\n",
    "df[numerical_cols]= scaler.fit_transform(df[numerical_cols])"
   ]
  },
  {
   "cell_type": "code",
   "execution_count": null,
   "id": "76700087",
   "metadata": {
    "papermill": {
     "duration": 0.005312,
     "end_time": "2023-07-03T10:40:20.346346",
     "exception": false,
     "start_time": "2023-07-03T10:40:20.341034",
     "status": "completed"
    },
    "tags": []
   },
   "outputs": [],
   "source": []
  }
 ],
 "metadata": {
  "kernelspec": {
   "display_name": "Python 3",
   "language": "python",
   "name": "python3"
  },
  "language_info": {
   "codemirror_mode": {
    "name": "ipython",
    "version": 3
   },
   "file_extension": ".py",
   "mimetype": "text/x-python",
   "name": "python",
   "nbconvert_exporter": "python",
   "pygments_lexer": "ipython3",
   "version": "3.10.10"
  },
  "papermill": {
   "default_parameters": {},
   "duration": 16.996816,
   "end_time": "2023-07-03T10:40:21.477611",
   "environment_variables": {},
   "exception": null,
   "input_path": "__notebook__.ipynb",
   "output_path": "__notebook__.ipynb",
   "parameters": {},
   "start_time": "2023-07-03T10:40:04.480795",
   "version": "2.4.0"
  }
 },
 "nbformat": 4,
 "nbformat_minor": 5
}
