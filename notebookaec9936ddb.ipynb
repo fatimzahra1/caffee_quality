{
 "cells": [
  {
   "cell_type": "code",
   "execution_count": 1,
   "id": "81278ec2",
   "metadata": {
    "_cell_guid": "b1076dfc-b9ad-4769-8c92-a6c4dae69d19",
    "_uuid": "8f2839f25d086af736a60e9eeb907d3b93b6e0e5",
    "execution": {
     "iopub.execute_input": "2023-07-03T14:59:42.466110Z",
     "iopub.status.busy": "2023-07-03T14:59:42.465724Z",
     "iopub.status.idle": "2023-07-03T14:59:44.995405Z",
     "shell.execute_reply": "2023-07-03T14:59:44.993884Z"
    },
    "papermill": {
     "duration": 2.544126,
     "end_time": "2023-07-03T14:59:44.999028",
     "exception": false,
     "start_time": "2023-07-03T14:59:42.454902",
     "status": "completed"
    },
    "tags": []
   },
   "outputs": [
    {
     "name": "stdout",
     "output_type": "stream",
     "text": [
      "/kaggle/input/coffee-quality-data-cqi/df_arabica_clean.csv\n"
     ]
    }
   ],
   "source": [
    "# This Python 3 environment comes with many helpful analytics libraries installed\n",
    "# It is defined by the kaggle/python Docker image: https://github.com/kaggle/docker-python\n",
    "# For example, here's several helpful packages to load\n",
    "\n",
    "import numpy as np # linear algebra\n",
    "import pandas as pd # data processing, CSV file I/O (e.g. pd.read_csv)\n",
    "import matplotlib.pyplot as plt\n",
    "import seaborn as sns\n",
    "from sklearn.model_selection import train_test_split\n",
    "from sklearn.preprocessing import StandardScaler\n",
    "from sklearn.metrics import classification_report, confusion_matrix, mean_squared_error, r2_score\n",
    "from sklearn.model_selection import cross_val_score\n",
    "from sklearn.linear_model import LogisticRegression\n",
    "from sklearn.tree import DecisionTreeClassifier\n",
    "from sklearn.ensemble import RandomForestRegressor\n",
    "\n",
    "\n",
    "\n",
    "# Input data files are available in the read-only \"../input/\" directory\n",
    "# For example, running this (by clicking run or pressing Shift+Enter) will list all files under the input directory\n",
    "\n",
    "import os\n",
    "for dirname, _, filenames in os.walk('/kaggle/input'):\n",
    "    for filename in filenames:\n",
    "        print(os.path.join(dirname, filename))\n",
    "\n",
    "# You can write up to 20GB to the current directory (/kaggle/working/) that gets preserved as output when you create a version using \"Save & Run All\" \n",
    "# You can also write temporary files to /kaggle/temp/, but they won't be saved outside of the current session"
   ]
  },
  {
   "cell_type": "code",
   "execution_count": 2,
   "id": "e2c06a54",
   "metadata": {
    "execution": {
     "iopub.execute_input": "2023-07-03T14:59:45.018221Z",
     "iopub.status.busy": "2023-07-03T14:59:45.017765Z",
     "iopub.status.idle": "2023-07-03T14:59:45.057360Z",
     "shell.execute_reply": "2023-07-03T14:59:45.055801Z"
    },
    "papermill": {
     "duration": 0.051723,
     "end_time": "2023-07-03T14:59:45.060207",
     "exception": false,
     "start_time": "2023-07-03T14:59:45.008484",
     "status": "completed"
    },
    "tags": []
   },
   "outputs": [
    {
     "data": {
      "text/plain": [
       "Index(['Unnamed: 0', 'ID', 'Country of Origin', 'Farm Name', 'Lot Number',\n",
       "       'Mill', 'ICO Number', 'Company', 'Altitude', 'Region', 'Producer',\n",
       "       'Number of Bags', 'Bag Weight', 'In-Country Partner', 'Harvest Year',\n",
       "       'Grading Date', 'Owner', 'Variety', 'Status', 'Processing Method',\n",
       "       'Aroma', 'Flavor', 'Aftertaste', 'Acidity', 'Body', 'Balance',\n",
       "       'Uniformity', 'Clean Cup', 'Sweetness', 'Overall', 'Defects',\n",
       "       'Total Cup Points', 'Moisture Percentage', 'Category One Defects',\n",
       "       'Quakers', 'Color', 'Category Two Defects', 'Expiration',\n",
       "       'Certification Body', 'Certification Address', 'Certification Contact'],\n",
       "      dtype='object')"
      ]
     },
     "execution_count": 2,
     "metadata": {},
     "output_type": "execute_result"
    }
   ],
   "source": [
    "df= pd.read_csv(\"../input/coffee-quality-data-cqi/df_arabica_clean.csv\")\n",
    "df.head(5)\n",
    "df.columns"
   ]
  },
  {
   "cell_type": "code",
   "execution_count": 3,
   "id": "c7c64f77",
   "metadata": {
    "execution": {
     "iopub.execute_input": "2023-07-03T14:59:45.078569Z",
     "iopub.status.busy": "2023-07-03T14:59:45.077910Z",
     "iopub.status.idle": "2023-07-03T14:59:45.087748Z",
     "shell.execute_reply": "2023-07-03T14:59:45.086005Z"
    },
    "papermill": {
     "duration": 0.021973,
     "end_time": "2023-07-03T14:59:45.090327",
     "exception": false,
     "start_time": "2023-07-03T14:59:45.068354",
     "status": "completed"
    },
    "tags": []
   },
   "outputs": [
    {
     "data": {
      "text/plain": [
       "Index(['Unnamed: 0', 'ID', 'Country of Origin', 'Farm Name', 'Lot Number',\n",
       "       'Mill', 'ICO Number', 'Company', 'Altitude', 'Region', 'Producer',\n",
       "       'Number of Bags', 'Bag Weight', 'In-Country Partner', 'Harvest Year',\n",
       "       'Grading Date', 'Owner', 'Variety', 'Status', 'Processing Method',\n",
       "       'Aroma', 'Flavor', 'Aftertaste', 'Acidity', 'Body', 'Balance',\n",
       "       'Uniformity', 'Clean Cup', 'Sweetness', 'Overall', 'Defects',\n",
       "       'Total Cup Points', 'Moisture Percentage', 'Category One Defects',\n",
       "       'Quakers', 'Color', 'Category Two Defects', 'Expiration',\n",
       "       'Certification Body', 'Certification Address', 'Certification Contact'],\n",
       "      dtype='object')"
      ]
     },
     "execution_count": 3,
     "metadata": {},
     "output_type": "execute_result"
    }
   ],
   "source": [
    "df.columns"
   ]
  },
  {
   "cell_type": "code",
   "execution_count": 4,
   "id": "695e9634",
   "metadata": {
    "execution": {
     "iopub.execute_input": "2023-07-03T14:59:45.109066Z",
     "iopub.status.busy": "2023-07-03T14:59:45.108654Z",
     "iopub.status.idle": "2023-07-03T14:59:45.147248Z",
     "shell.execute_reply": "2023-07-03T14:59:45.145345Z"
    },
    "papermill": {
     "duration": 0.051542,
     "end_time": "2023-07-03T14:59:45.150357",
     "exception": false,
     "start_time": "2023-07-03T14:59:45.098815",
     "status": "completed"
    },
    "tags": []
   },
   "outputs": [
    {
     "name": "stdout",
     "output_type": "stream",
     "text": [
      "<class 'pandas.core.frame.DataFrame'>\n",
      "RangeIndex: 207 entries, 0 to 206\n",
      "Data columns (total 41 columns):\n",
      " #   Column                 Non-Null Count  Dtype  \n",
      "---  ------                 --------------  -----  \n",
      " 0   Unnamed: 0             207 non-null    int64  \n",
      " 1   ID                     207 non-null    int64  \n",
      " 2   Country of Origin      207 non-null    object \n",
      " 3   Farm Name              205 non-null    object \n",
      " 4   Lot Number             206 non-null    object \n",
      " 5   Mill                   204 non-null    object \n",
      " 6   ICO Number             75 non-null     object \n",
      " 7   Company                207 non-null    object \n",
      " 8   Altitude               206 non-null    object \n",
      " 9   Region                 205 non-null    object \n",
      " 10  Producer               206 non-null    object \n",
      " 11  Number of Bags         207 non-null    int64  \n",
      " 12  Bag Weight             207 non-null    object \n",
      " 13  In-Country Partner     207 non-null    object \n",
      " 14  Harvest Year           207 non-null    object \n",
      " 15  Grading Date           207 non-null    object \n",
      " 16  Owner                  207 non-null    object \n",
      " 17  Variety                201 non-null    object \n",
      " 18  Status                 207 non-null    object \n",
      " 19  Processing Method      202 non-null    object \n",
      " 20  Aroma                  207 non-null    float64\n",
      " 21  Flavor                 207 non-null    float64\n",
      " 22  Aftertaste             207 non-null    float64\n",
      " 23  Acidity                207 non-null    float64\n",
      " 24  Body                   207 non-null    float64\n",
      " 25  Balance                207 non-null    float64\n",
      " 26  Uniformity             207 non-null    float64\n",
      " 27  Clean Cup              207 non-null    float64\n",
      " 28  Sweetness              207 non-null    float64\n",
      " 29  Overall                207 non-null    float64\n",
      " 30  Defects                207 non-null    float64\n",
      " 31  Total Cup Points       207 non-null    float64\n",
      " 32  Moisture Percentage    207 non-null    float64\n",
      " 33  Category One Defects   207 non-null    int64  \n",
      " 34  Quakers                207 non-null    int64  \n",
      " 35  Color                  207 non-null    object \n",
      " 36  Category Two Defects   207 non-null    int64  \n",
      " 37  Expiration             207 non-null    object \n",
      " 38  Certification Body     207 non-null    object \n",
      " 39  Certification Address  207 non-null    object \n",
      " 40  Certification Contact  207 non-null    object \n",
      "dtypes: float64(13), int64(6), object(22)\n",
      "memory usage: 66.4+ KB\n"
     ]
    }
   ],
   "source": [
    "df.info()"
   ]
  },
  {
   "cell_type": "code",
   "execution_count": 5,
   "id": "22732ffe",
   "metadata": {
    "execution": {
     "iopub.execute_input": "2023-07-03T14:59:45.170743Z",
     "iopub.status.busy": "2023-07-03T14:59:45.170310Z",
     "iopub.status.idle": "2023-07-03T14:59:45.184993Z",
     "shell.execute_reply": "2023-07-03T14:59:45.183225Z"
    },
    "papermill": {
     "duration": 0.029511,
     "end_time": "2023-07-03T14:59:45.188018",
     "exception": false,
     "start_time": "2023-07-03T14:59:45.158507",
     "status": "completed"
    },
    "tags": []
   },
   "outputs": [
    {
     "data": {
      "text/plain": [
       "Unnamed: 0                 0\n",
       "ID                         0\n",
       "Country of Origin          0\n",
       "Farm Name                  2\n",
       "Lot Number                 1\n",
       "Mill                       3\n",
       "ICO Number               132\n",
       "Company                    0\n",
       "Altitude                   1\n",
       "Region                     2\n",
       "Producer                   1\n",
       "Number of Bags             0\n",
       "Bag Weight                 0\n",
       "In-Country Partner         0\n",
       "Harvest Year               0\n",
       "Grading Date               0\n",
       "Owner                      0\n",
       "Variety                    6\n",
       "Status                     0\n",
       "Processing Method          5\n",
       "Aroma                      0\n",
       "Flavor                     0\n",
       "Aftertaste                 0\n",
       "Acidity                    0\n",
       "Body                       0\n",
       "Balance                    0\n",
       "Uniformity                 0\n",
       "Clean Cup                  0\n",
       "Sweetness                  0\n",
       "Overall                    0\n",
       "Defects                    0\n",
       "Total Cup Points           0\n",
       "Moisture Percentage        0\n",
       "Category One Defects       0\n",
       "Quakers                    0\n",
       "Color                      0\n",
       "Category Two Defects       0\n",
       "Expiration                 0\n",
       "Certification Body         0\n",
       "Certification Address      0\n",
       "Certification Contact      0\n",
       "dtype: int64"
      ]
     },
     "execution_count": 5,
     "metadata": {},
     "output_type": "execute_result"
    }
   ],
   "source": [
    "df.isnull().sum()"
   ]
  },
  {
   "cell_type": "markdown",
   "id": "44c453fe",
   "metadata": {
    "papermill": {
     "duration": 0.009185,
     "end_time": "2023-07-03T14:59:45.205633",
     "exception": false,
     "start_time": "2023-07-03T14:59:45.196448",
     "status": "completed"
    },
    "tags": []
   },
   "source": [
    "# Data cleaning and preprocessing."
   ]
  },
  {
   "cell_type": "code",
   "execution_count": 6,
   "id": "971ec5eb",
   "metadata": {
    "execution": {
     "iopub.execute_input": "2023-07-03T14:59:45.225615Z",
     "iopub.status.busy": "2023-07-03T14:59:45.225194Z",
     "iopub.status.idle": "2023-07-03T14:59:45.242854Z",
     "shell.execute_reply": "2023-07-03T14:59:45.241601Z"
    },
    "papermill": {
     "duration": 0.031136,
     "end_time": "2023-07-03T14:59:45.245358",
     "exception": false,
     "start_time": "2023-07-03T14:59:45.214222",
     "status": "completed"
    },
    "tags": []
   },
   "outputs": [
    {
     "data": {
      "text/plain": [
       "9           greenish\n",
       "10          greenish\n",
       "13     yellow- green\n",
       "17      yellow-green\n",
       "18          brownish\n",
       "           ...      \n",
       "197            green\n",
       "201         greenish\n",
       "203            green\n",
       "204            green\n",
       "206            green\n",
       "Name: Color, Length: 69, dtype: object"
      ]
     },
     "execution_count": 6,
     "metadata": {},
     "output_type": "execute_result"
    }
   ],
   "source": [
    "# Drop unnecessary columns\n",
    "df.drop(\"Unnamed: 0\", axis=1, inplace=True)\n",
    "\n",
    "# Handle missing values\n",
    "df.dropna(inplace=True)\n",
    "df.head(2)\n",
    "df[\"Color\"]"
   ]
  },
  {
   "cell_type": "code",
   "execution_count": 7,
   "id": "53cba485",
   "metadata": {
    "execution": {
     "iopub.execute_input": "2023-07-03T14:59:45.265619Z",
     "iopub.status.busy": "2023-07-03T14:59:45.265198Z",
     "iopub.status.idle": "2023-07-03T14:59:45.284799Z",
     "shell.execute_reply": "2023-07-03T14:59:45.283824Z"
    },
    "papermill": {
     "duration": 0.032936,
     "end_time": "2023-07-03T14:59:45.287636",
     "exception": false,
     "start_time": "2023-07-03T14:59:45.254700",
     "status": "completed"
    },
    "tags": []
   },
   "outputs": [],
   "source": [
    "# Convert categorical variables to numeric\n",
    "category_cols = ['Owner', \"Country of Origin\",\"Producer\",\"Processing Method\"]\n",
    "df = pd.get_dummies(df, columns=category_cols, drop_first=True)"
   ]
  },
  {
   "cell_type": "code",
   "execution_count": 8,
   "id": "13bf04b7",
   "metadata": {
    "execution": {
     "iopub.execute_input": "2023-07-03T14:59:45.309864Z",
     "iopub.status.busy": "2023-07-03T14:59:45.309328Z",
     "iopub.status.idle": "2023-07-03T14:59:45.319779Z",
     "shell.execute_reply": "2023-07-03T14:59:45.318146Z"
    },
    "papermill": {
     "duration": 0.026763,
     "end_time": "2023-07-03T14:59:45.323499",
     "exception": false,
     "start_time": "2023-07-03T14:59:45.296736",
     "status": "completed"
    },
    "tags": []
   },
   "outputs": [
    {
     "data": {
      "text/plain": [
       "9     8.08\n",
       "10    8.00\n",
       "13    8.00\n",
       "Name: Aftertaste, dtype: float64"
      ]
     },
     "execution_count": 8,
     "metadata": {},
     "output_type": "execute_result"
    }
   ],
   "source": [
    "df.Aftertaste.head(3)"
   ]
  },
  {
   "cell_type": "code",
   "execution_count": 9,
   "id": "965490f6",
   "metadata": {
    "execution": {
     "iopub.execute_input": "2023-07-03T14:59:45.349675Z",
     "iopub.status.busy": "2023-07-03T14:59:45.348194Z",
     "iopub.status.idle": "2023-07-03T14:59:45.374786Z",
     "shell.execute_reply": "2023-07-03T14:59:45.371609Z"
    },
    "papermill": {
     "duration": 0.048424,
     "end_time": "2023-07-03T14:59:45.382025",
     "exception": false,
     "start_time": "2023-07-03T14:59:45.333601",
     "status": "completed"
    },
    "tags": []
   },
   "outputs": [],
   "source": [
    "# Normalise numeric variables\n",
    "numerical_cols=[\"Aroma\",\"Flavor\",\"Aftertaste\",\"Acidity\", \"Body\",\"Balance\",\"Uniformity\",\"Clean Cup\",\"Sweetness\",\"Total Cup Points\"]\n",
    "scaler=StandardScaler()\n",
    "df[numerical_cols]= scaler.fit_transform(df[numerical_cols])"
   ]
  },
  {
   "cell_type": "markdown",
   "id": "21257874",
   "metadata": {
    "papermill": {
     "duration": 0.012935,
     "end_time": "2023-07-03T14:59:45.407606",
     "exception": false,
     "start_time": "2023-07-03T14:59:45.394671",
     "status": "completed"
    },
    "tags": []
   },
   "source": [
    "# Exploratory Data Analysis (EDA)"
   ]
  },
  {
   "cell_type": "code",
   "execution_count": 10,
   "id": "6c620dfe",
   "metadata": {
    "execution": {
     "iopub.execute_input": "2023-07-03T14:59:45.440835Z",
     "iopub.status.busy": "2023-07-03T14:59:45.439715Z",
     "iopub.status.idle": "2023-07-03T14:59:45.980089Z",
     "shell.execute_reply": "2023-07-03T14:59:45.979147Z"
    },
    "papermill": {
     "duration": 0.562806,
     "end_time": "2023-07-03T14:59:45.982610",
     "exception": false,
     "start_time": "2023-07-03T14:59:45.419804",
     "status": "completed"
    },
    "tags": []
   },
   "outputs": [
    {
     "data": {
      "image/png": "[encoded data removed]",
      "text/plain": [
       "<Figure size 800x600 with 1 Axes>"
      ]
     },
     "metadata": {},
     "output_type": "display_data"
    }
   ],
   "source": [
    "# Visualise the frequency of the target value \"Clean Cup\"\n",
    "plt.figure(figsize=(8,6))\n",
    "sns.histplot(df[\"Overall\"], kde=True)\n",
    "plt.xlabel(\"Distribution Of Overall\")\n",
    "plt.ylabel(\"Frequency\")\n",
    "plt.show()"
   ]
  },
  {
   "cell_type": "code",
   "execution_count": 11,
   "id": "271605da",
   "metadata": {
    "execution": {
     "iopub.execute_input": "2023-07-03T14:59:46.004481Z",
     "iopub.status.busy": "2023-07-03T14:59:46.003771Z",
     "iopub.status.idle": "2023-07-03T14:59:46.633908Z",
     "shell.execute_reply": "2023-07-03T14:59:46.632947Z"
    },
    "papermill": {
     "duration": 0.645115,
     "end_time": "2023-07-03T14:59:46.636923",
     "exception": false,
     "start_time": "2023-07-03T14:59:45.991808",
     "status": "completed"
    },
    "tags": []
   },
   "outputs": [
    {
     "data": {
      "image/png": "[encoded data removed]",
      "text/plain": [
       "<Figure size 800x400 with 2 Axes>"
      ]
     },
     "metadata": {},
     "output_type": "display_data"
    }
   ],
   "source": [
    "# Explore the correlation between variables using a heatmap\n",
    "heatmap_cols=[\"Overall\",\"Aroma\",\"Flavor\",\"Aftertaste\",\"Acidity\",\"Body\",\"Balance\",\"Uniformity\",\"Clean Cup\",\"Sweetness\"]\n",
    "df_heatmap=df[heatmap_cols]\n",
    "plt.figure(figsize=(8,4))\n",
    "sns.heatmap(df_heatmap.corr(), annot=True, cmap=\"coolwarm\")\n",
    "plt.title(\"Correlation Matrix\")\n",
    "plt.show()"
   ]
  },
  {
   "cell_type": "code",
   "execution_count": 12,
   "id": "e46d6519",
   "metadata": {
    "execution": {
     "iopub.execute_input": "2023-07-03T14:59:46.661674Z",
     "iopub.status.busy": "2023-07-03T14:59:46.661265Z",
     "iopub.status.idle": "2023-07-03T14:59:47.139616Z",
     "shell.execute_reply": "2023-07-03T14:59:47.138214Z"
    },
    "papermill": {
     "duration": 0.493187,
     "end_time": "2023-07-03T14:59:47.142155",
     "exception": false,
     "start_time": "2023-07-03T14:59:46.648968",
     "status": "completed"
    },
    "tags": []
   },
   "outputs": [
    {
     "data": {
      "image/png": "[encoded data removed]",
      "text/plain": [
       "<Figure size 400x500 with 1 Axes>"
      ]
     },
     "metadata": {},
     "output_type": "display_data"
    }
   ],
   "source": [
    "# Scatter plot of \"Aroma\" and \"Flavor\" with color-coded \"Overall\"\n",
    "plt.figure(figsize=(4,5))\n",
    "sns.scatterplot(x=\"Aroma\", y=\"Flavor\", hue=\"Overall\", data=df)\n",
    "plt.title(\"Scatter Plot Of Aroma And Flavor\")\n",
    "plt.show()"
   ]
  },
  {
   "cell_type": "markdown",
   "id": "f6a71beb",
   "metadata": {
    "papermill": {
     "duration": 0.010371,
     "end_time": "2023-07-03T14:59:47.163297",
     "exception": false,
     "start_time": "2023-07-03T14:59:47.152926",
     "status": "completed"
    },
    "tags": []
   },
   "source": [
    "# Data Preparation For machine learning"
   ]
  },
  {
   "cell_type": "code",
   "execution_count": 13,
   "id": "b17fb267",
   "metadata": {
    "execution": {
     "iopub.execute_input": "2023-07-03T14:59:47.187745Z",
     "iopub.status.busy": "2023-07-03T14:59:47.187034Z",
     "iopub.status.idle": "2023-07-03T14:59:47.203244Z",
     "shell.execute_reply": "2023-07-03T14:59:47.202369Z"
    },
    "papermill": {
     "duration": 0.031332,
     "end_time": "2023-07-03T14:59:47.205939",
     "exception": false,
     "start_time": "2023-07-03T14:59:47.174607",
     "status": "completed"
    },
    "tags": []
   },
   "outputs": [],
   "source": [
    "# Select the relevant columns for the machine learning model\n",
    "\n",
    "features=[\"Overall\",\"Aroma\",\"Flavor\",\"Aftertaste\",\"Acidity\",\"Body\",\"Balance\",\"Uniformity\",\"Clean Cup\",\"Sweetness\"]\n",
    "target=\"Overall\"\n",
    "\n",
    "# Create the feature matrix X and the target vector y\n",
    "X=df[features]\n",
    "y=df[target]\n",
    "\n",
    "# Split the data into train and testing sets\n",
    "\n",
    "X_train,X_test,y_train,y_test=train_test_split(X, y, test_size=0.2, random_state=42)\n",
    "\n",
    "# Perform feature scaling on training and testing sets\n",
    "scaler=StandardScaler()\n",
    "X_train_scaled=scaler.fit_transform(X_train)\n",
    "X_test_scaled=scaler.fit_transform(X_test)\n"
   ]
  },
  {
   "cell_type": "markdown",
   "id": "7033087c",
   "metadata": {
    "papermill": {
     "duration": 0.010388,
     "end_time": "2023-07-03T14:59:47.227161",
     "exception": false,
     "start_time": "2023-07-03T14:59:47.216773",
     "status": "completed"
    },
    "tags": []
   },
   "source": [
    "# Training and evaluating machine learning models"
   ]
  },
  {
   "cell_type": "code",
   "execution_count": 14,
   "id": "6efb6492",
   "metadata": {
    "execution": {
     "iopub.execute_input": "2023-07-03T14:59:47.251006Z",
     "iopub.status.busy": "2023-07-03T14:59:47.250268Z",
     "iopub.status.idle": "2023-07-03T14:59:47.476337Z",
     "shell.execute_reply": "2023-07-03T14:59:47.475018Z"
    },
    "papermill": {
     "duration": 0.240938,
     "end_time": "2023-07-03T14:59:47.478921",
     "exception": false,
     "start_time": "2023-07-03T14:59:47.237983",
     "status": "completed"
    },
    "tags": []
   },
   "outputs": [
    {
     "name": "stdout",
     "output_type": "stream",
     "text": [
      "Mean Squared Error (MSE):0.0195\n",
      "Root Mean Squared Error (RMSE):0.1396\n",
      "Coefficient Of Determination (R^2):0.6746\n"
     ]
    }
   ],
   "source": [
    "# Initialize the Random Forest Regressor\n",
    "\n",
    "rf_regressor= RandomForestRegressor(random_state=42)\n",
    "\n",
    "# Train the model on the training data\n",
    "\n",
    "rf_regressor.fit(X_train_scaled, y_train)\n",
    "\n",
    "# Make predictions on the testing data\n",
    "\n",
    "y_pred=rf_regressor.predict(X_test_scaled)\n",
    "    \n",
    "# Evaluate the model performance\n",
    "\n",
    "mse=mean_squared_error(y_test,y_pred)\n",
    "rmse= np.sqrt(mse)\n",
    "r2=r2_score(y_test,y_pred)\n",
    "\n",
    "print(f\"Mean Squared Error (MSE):{mse:.4f}\")\n",
    "print(f\"Root Mean Squared Error (RMSE):{rmse:.4f}\")\n",
    "print(f\"Coefficient Of Determination (R^2):{r2:.4f}\")\n",
    "\n",
    "\n"
   ]
  },
  {
   "cell_type": "markdown",
   "id": "0824ee48",
   "metadata": {
    "papermill": {
     "duration": 0.010865,
     "end_time": "2023-07-03T14:59:47.500776",
     "exception": false,
     "start_time": "2023-07-03T14:59:47.489911",
     "status": "completed"
    },
    "tags": []
   },
   "source": [
    "# Fine-Tune the model and optimise its performance"
   ]
  },
  {
   "cell_type": "code",
   "execution_count": 15,
   "id": "dcc2c40e",
   "metadata": {
    "execution": {
     "iopub.execute_input": "2023-07-03T14:59:47.525604Z",
     "iopub.status.busy": "2023-07-03T14:59:47.525150Z",
     "iopub.status.idle": "2023-07-03T15:00:25.481886Z",
     "shell.execute_reply": "2023-07-03T15:00:25.480470Z"
    },
    "papermill": {
     "duration": 37.982139,
     "end_time": "2023-07-03T15:00:25.494942",
     "exception": false,
     "start_time": "2023-07-03T14:59:47.512803",
     "status": "completed"
    },
    "tags": []
   },
   "outputs": [
    {
     "name": "stdout",
     "output_type": "stream",
     "text": [
      "Best Hyperparameters: \n",
      "max_depth:None\n",
      "max_features:sqrt\n",
      "n_estimators:300\n"
     ]
    }
   ],
   "source": [
    "from sklearn.model_selection import GridSearchCV\n",
    "\n",
    "# Define the hyperparameter grid\n",
    "param_grid={\n",
    "    'n_estimators':[100,200,300],\n",
    "    'max_depth':[None, 5, 10],\n",
    "    'max_features':['sqrt','log2']\n",
    "}\n",
    "# Perform Grid Search using 5 cross-validation\n",
    "grid_search=GridSearchCV(rf_regressor, param_grid, cv=5)\n",
    "\n",
    "# Fit the Grid Search to the training data\n",
    "grid_search.fit(X_train_scaled, y_train)\n",
    "\n",
    "# Get the best hyperparameter configuration\n",
    "best_params=grid_search.best_params_\n",
    "\n",
    "print(\"Best Hyperparameters: \")\n",
    "for param, value in best_params.items():\n",
    "    print(f\"{param}:{value}\")\n"
   ]
  },
  {
   "cell_type": "markdown",
   "id": "8ade2d21",
   "metadata": {
    "papermill": {
     "duration": 0.010511,
     "end_time": "2023-07-03T15:00:25.516976",
     "exception": false,
     "start_time": "2023-07-03T15:00:25.506465",
     "status": "completed"
    },
    "tags": []
   },
   "source": [
    "## Using optimal hyperparameters to train the random forest model with the whole training dataset"
   ]
  },
  {
   "cell_type": "code",
   "execution_count": 16,
   "id": "37b063b4",
   "metadata": {
    "execution": {
     "iopub.execute_input": "2023-07-03T15:00:25.540798Z",
     "iopub.status.busy": "2023-07-03T15:00:25.540368Z",
     "iopub.status.idle": "2023-07-03T15:00:26.169563Z",
     "shell.execute_reply": "2023-07-03T15:00:26.168135Z"
    },
    "papermill": {
     "duration": 0.644505,
     "end_time": "2023-07-03T15:00:26.172447",
     "exception": false,
     "start_time": "2023-07-03T15:00:25.527942",
     "status": "completed"
    },
    "tags": []
   },
   "outputs": [
    {
     "name": "stdout",
     "output_type": "stream",
     "text": [
      "Mean Squared Error (MSE):0.0227\n",
      "Root Mean Squared Error (RMSE):0.1508\n",
      "Coefficient Of Determination (R^2):0.6202\n"
     ]
    }
   ],
   "source": [
    "# Initialise the random forest regressor with the best hypoparameters\n",
    "best_rf_regressor= RandomForestRegressor(n_estimators=300,max_depth=None, max_features=\"sqrt\",random_state=42)\n",
    "\n",
    "# Train the model on the entire training set\n",
    "best_rf_regressor.fit(X_train_scaled,y_train)\n",
    "\n",
    "# Make predictions on the testing dataset\n",
    "y_pred=best_rf_regressor.predict(X_test_scaled)\n",
    "\n",
    "# Evaluate the model performance\n",
    "mse= mean_squared_error(y_test, y_pred)\n",
    "rmse=np.sqrt(mse)\n",
    "r2=r2_score(y_test, y_pred)\n",
    "\n",
    "print(f\"Mean Squared Error (MSE):{mse:.4f}\")\n",
    "print(f\"Root Mean Squared Error (RMSE):{rmse:.4f}\")\n",
    "print(f\"Coefficient Of Determination (R^2):{r2:.4f}\")"
   ]
  },
  {
   "cell_type": "code",
   "execution_count": null,
   "id": "4ff1a99e",
   "metadata": {
    "papermill": {
     "duration": 0.010746,
     "end_time": "2023-07-03T15:00:26.194610",
     "exception": false,
     "start_time": "2023-07-03T15:00:26.183864",
     "status": "completed"
    },
    "tags": []
   },
   "outputs": [],
   "source": []
  }
 ],
 "metadata": {
  "kernelspec": {
   "display_name": "Python 3",
   "language": "python",
   "name": "python3"
  },
  "language_info": {
   "codemirror_mode": {
    "name": "ipython",
    "version": 3
   },
   "file_extension": ".py",
   "mimetype": "text/x-python",
   "name": "python",
   "nbconvert_exporter": "python",
   "pygments_lexer": "ipython3",
   "version": "3.10.10"
  },
  "papermill": {
   "default_parameters": {},
   "duration": 59.164804,
   "end_time": "2023-07-03T15:00:27.330342",
   "environment_variables": {},
   "exception": null,
   "input_path": "__notebook__.ipynb",
   "output_path": "__notebook__.ipynb",
   "parameters": {},
   "start_time": "2023-07-03T14:59:28.165538",
   "version": "2.4.0"
  }
 },
 "nbformat": 4,
 "nbformat_minor": 5
}
